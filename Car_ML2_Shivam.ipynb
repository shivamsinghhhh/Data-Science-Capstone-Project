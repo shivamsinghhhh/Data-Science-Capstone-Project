{
 "cells": [
  {
   "cell_type": "code",
   "execution_count": 1,
   "id": "807fb115",
   "metadata": {},
   "outputs": [],
   "source": [
    "#import libraries\n",
    "import pandas as pd\n",
    "import numpy as np\n",
    "import matplotlib.pyplot as plt\n",
    "import seaborn as sns\n",
    "import os\n",
    "import warnings\n",
    "\n",
    "%matplotlib inline\n",
    "pd.set_option(\"display.max_rows\", None,\"display.max_columns\", None)\n",
    "warnings.simplefilter(action='ignore')\n",
    "plt.style.use('seaborn')"
   ]
  },
  {
   "cell_type": "code",
   "execution_count": 2,
   "id": "d9faf8ea",
   "metadata": {},
   "outputs": [
    {
     "data": {
      "text/html": [
       "<div>\n",
       "<style scoped>\n",
       "    .dataframe tbody tr th:only-of-type {\n",
       "        vertical-align: middle;\n",
       "    }\n",
       "\n",
       "    .dataframe tbody tr th {\n",
       "        vertical-align: top;\n",
       "    }\n",
       "\n",
       "    .dataframe thead th {\n",
       "        text-align: right;\n",
       "    }\n",
       "</style>\n",
       "<table border=\"1\" class=\"dataframe\">\n",
       "  <thead>\n",
       "    <tr style=\"text-align: right;\">\n",
       "      <th></th>\n",
       "      <th>brand</th>\n",
       "      <th>year</th>\n",
       "      <th>selling_price</th>\n",
       "      <th>km_driven</th>\n",
       "      <th>fuel</th>\n",
       "      <th>seller_type</th>\n",
       "      <th>transmission</th>\n",
       "      <th>owner</th>\n",
       "    </tr>\n",
       "  </thead>\n",
       "  <tbody>\n",
       "    <tr>\n",
       "      <th>0</th>\n",
       "      <td>Audi</td>\n",
       "      <td>2011</td>\n",
       "      <td>1190000</td>\n",
       "      <td>175900</td>\n",
       "      <td>Diesel</td>\n",
       "      <td>Dealer</td>\n",
       "      <td>Automatic</td>\n",
       "      <td>First Owner</td>\n",
       "    </tr>\n",
       "    <tr>\n",
       "      <th>1</th>\n",
       "      <td>Audi</td>\n",
       "      <td>2013</td>\n",
       "      <td>1735000</td>\n",
       "      <td>50000</td>\n",
       "      <td>Diesel</td>\n",
       "      <td>Dealer</td>\n",
       "      <td>Automatic</td>\n",
       "      <td>First Owner</td>\n",
       "    </tr>\n",
       "    <tr>\n",
       "      <th>2</th>\n",
       "      <td>Audi</td>\n",
       "      <td>2009</td>\n",
       "      <td>1250000</td>\n",
       "      <td>78000</td>\n",
       "      <td>Diesel</td>\n",
       "      <td>Dealer</td>\n",
       "      <td>Automatic</td>\n",
       "      <td>Third Owner</td>\n",
       "    </tr>\n",
       "    <tr>\n",
       "      <th>3</th>\n",
       "      <td>Audi</td>\n",
       "      <td>2014</td>\n",
       "      <td>1470000</td>\n",
       "      <td>34000</td>\n",
       "      <td>Diesel</td>\n",
       "      <td>Dealer</td>\n",
       "      <td>Automatic</td>\n",
       "      <td>Second Owner</td>\n",
       "    </tr>\n",
       "    <tr>\n",
       "      <th>4</th>\n",
       "      <td>Audi</td>\n",
       "      <td>2013</td>\n",
       "      <td>2800000</td>\n",
       "      <td>49000</td>\n",
       "      <td>Diesel</td>\n",
       "      <td>Dealer</td>\n",
       "      <td>Automatic</td>\n",
       "      <td>First Owner</td>\n",
       "    </tr>\n",
       "  </tbody>\n",
       "</table>\n",
       "</div>"
      ],
      "text/plain": [
       "  brand  year  selling_price  km_driven    fuel seller_type transmission   \n",
       "0  Audi  2011        1190000     175900  Diesel      Dealer    Automatic  \\\n",
       "1  Audi  2013        1735000      50000  Diesel      Dealer    Automatic   \n",
       "2  Audi  2009        1250000      78000  Diesel      Dealer    Automatic   \n",
       "3  Audi  2014        1470000      34000  Diesel      Dealer    Automatic   \n",
       "4  Audi  2013        2800000      49000  Diesel      Dealer    Automatic   \n",
       "\n",
       "          owner  \n",
       "0   First Owner  \n",
       "1   First Owner  \n",
       "2   Third Owner  \n",
       "3  Second Owner  \n",
       "4   First Owner  "
      ]
     },
     "execution_count": 2,
     "metadata": {},
     "output_type": "execute_result"
    }
   ],
   "source": [
    "\n",
    "#load dataset\n",
    "df_main = pd.read_csv('CAR DETAILS_ML.csv')\n",
    "\n",
    "df_main.head()"
   ]
  },
  {
   "cell_type": "code",
   "execution_count": 32,
   "id": "bf53f165",
   "metadata": {},
   "outputs": [
    {
     "data": {
      "text/plain": [
       "brand            object\n",
       "selling_price     int64\n",
       "km_driven         int64\n",
       "fuel             object\n",
       "seller_type      object\n",
       "transmission     object\n",
       "owner            object\n",
       "Age               int64\n",
       "dtype: object"
      ]
     },
     "execution_count": 32,
     "metadata": {},
     "output_type": "execute_result"
    }
   ],
   "source": [
    "df_main.dtypes"
   ]
  },
  {
   "cell_type": "code",
   "execution_count": 33,
   "id": "0c2dad36",
   "metadata": {},
   "outputs": [
    {
     "data": {
      "text/plain": [
       "Index(['brand', 'selling_price', 'km_driven', 'fuel', 'seller_type',\n",
       "       'transmission', 'owner', 'Age'],\n",
       "      dtype='object')"
      ]
     },
     "execution_count": 33,
     "metadata": {},
     "output_type": "execute_result"
    }
   ],
   "source": [
    "df_main.columns"
   ]
  },
  {
   "cell_type": "code",
   "execution_count": 3,
   "id": "3f4c30d3",
   "metadata": {},
   "outputs": [],
   "source": [
    "df_main['Age'] = 2020 - df_main['year']\n",
    "df_main.drop('year',axis=1,inplace = True)"
   ]
  },
  {
   "cell_type": "markdown",
   "id": "3ce56643",
   "metadata": {},
   "source": [
    "# data processing\n"
   ]
  },
  {
   "cell_type": "code",
   "execution_count": 4,
   "id": "01bbd4ca",
   "metadata": {},
   "outputs": [
    {
     "data": {
      "image/png": "[encoded data removed]",
      "text/plain": [
       "<Figure size 800x550 with 1 Axes>"
      ]
     },
     "metadata": {},
     "output_type": "display_data"
    }
   ],
   "source": [
    "sns.boxplot(x=df_main['km_driven'])\n",
    "plt.show()"
   ]
  },
  {
   "cell_type": "code",
   "execution_count": 5,
   "id": "6736e7e4",
   "metadata": {},
   "outputs": [
    {
     "name": "stdout",
     "output_type": "stream",
     "text": [
      "(8, 8)\n"
     ]
    }
   ],
   "source": [
    "print(df_main[df_main['km_driven']>300000].shape)"
   ]
  },
  {
   "cell_type": "code",
   "execution_count": 6,
   "id": "d05297b9",
   "metadata": {},
   "outputs": [],
   "source": [
    "df_main['km_driven'] = np.where(df_main['km_driven']>300000,300000,df_main['km_driven'])"
   ]
  },
  {
   "cell_type": "code",
   "execution_count": 7,
   "id": "3d15f1a5",
   "metadata": {},
   "outputs": [
    {
     "data": {
      "image/png": "[encoded data removed]",
      "text/plain": [
       "<Figure size 800x550 with 1 Axes>"
      ]
     },
     "metadata": {},
     "output_type": "display_data"
    }
   ],
   "source": [
    "sns.boxplot(x=df_main['km_driven'])\n",
    "plt.show()"
   ]
  },
  {
   "cell_type": "code",
   "execution_count": 8,
   "id": "8fc2ad80",
   "metadata": {},
   "outputs": [
    {
     "name": "stdout",
     "output_type": "stream",
     "text": [
      "<class 'pandas.core.frame.DataFrame'>\n",
      "<class 'pandas.core.series.Series'>\n",
      "(4304, 7)\n",
      "(4304,)\n"
     ]
    }
   ],
   "source": [
    "x = df_main.drop('selling_price',axis=1)\n",
    "y = df_main['selling_price']\n",
    "print(type(x))\n",
    "print(type(y))\n",
    "print(x.shape)\n",
    "print(y.shape)"
   ]
  },
  {
   "cell_type": "markdown",
   "id": "efe2a1e0",
   "metadata": {},
   "source": [
    "### Split the data into train and test"
   ]
  },
  {
   "cell_type": "code",
   "execution_count": 9,
   "id": "7bb256e1",
   "metadata": {},
   "outputs": [],
   "source": [
    "from sklearn.model_selection import train_test_split"
   ]
  },
  {
   "cell_type": "code",
   "execution_count": 10,
   "id": "ad2d7d21",
   "metadata": {},
   "outputs": [
    {
     "name": "stdout",
     "output_type": "stream",
     "text": [
      "1076.0\n"
     ]
    }
   ],
   "source": [
    "print(4304*0.25)"
   ]
  },
  {
   "cell_type": "code",
   "execution_count": 11,
   "id": "ca38f0f5",
   "metadata": {},
   "outputs": [
    {
     "name": "stdout",
     "output_type": "stream",
     "text": [
      "(3228, 7)\n",
      "(1076, 7)\n",
      "(3228,)\n",
      "(1076,)\n"
     ]
    }
   ],
   "source": [
    "x_train,x_test,y_train,y_test = train_test_split(x,y,test_size=0.25,random_state=42)\n",
    "print(x_train.shape)\n",
    "print(x_test.shape)\n",
    "print(y_train.shape)\n",
    "print(y_test.shape)"
   ]
  },
  {
   "cell_type": "markdown",
   "id": "b075fdb3",
   "metadata": {},
   "source": [
    "### Create function to cpmute MSE, RMSE, MAE,Trai and Test Test Score"
   ]
  },
  {
   "cell_type": "code",
   "execution_count": 12,
   "id": "d2196a46",
   "metadata": {},
   "outputs": [],
   "source": [
    "from sklearn.metrics import mean_squared_error,mean_absolute_error,r2_score"
   ]
  },
  {
   "cell_type": "code",
   "execution_count": 13,
   "id": "c21f5355",
   "metadata": {},
   "outputs": [],
   "source": [
    "def eval_model(ytest,ypred):\n",
    "    mae = mean_absolute_error(ytest,ypred)\n",
    "    mse = mean_squared_error(ytest,ypred)\n",
    "    rmse = np.sqrt(mse)\n",
    "    r2s = r2_score(ytest,ypred)\n",
    "    print('MAE',mae)\n",
    "    print('MSE',mse)\n",
    "    print('RMSE',rmse)\n",
    "    print('R2 Score',r2s)"
   ]
  },
  {
   "cell_type": "markdown",
   "id": "57c2d36a",
   "metadata": {},
   "source": [
    "### Import ML model building libraries"
   ]
  },
  {
   "cell_type": "code",
   "execution_count": 14,
   "id": "917dbc5f",
   "metadata": {},
   "outputs": [],
   "source": [
    "from sklearn.linear_model import LinearRegression, Ridge, Lasso\n",
    "from sklearn.ensemble import RandomForestRegressor, AdaBoostRegressor\n",
    "from sklearn.tree import DecisionTreeRegressor\n",
    "from sklearn.neighbors import KNeighborsRegressor"
   ]
  },
  {
   "cell_type": "code",
   "execution_count": 15,
   "id": "e756cee6",
   "metadata": {},
   "outputs": [],
   "source": [
    "from sklearn.preprocessing import OneHotEncoder\n",
    "from sklearn.compose import ColumnTransformer\n",
    "from sklearn.pipeline import Pipeline"
   ]
  },
  {
   "cell_type": "code",
   "execution_count": 16,
   "id": "153d7f8b",
   "metadata": {},
   "outputs": [
    {
     "data": {
      "text/plain": [
       "brand           object\n",
       "km_driven        int64\n",
       "fuel            object\n",
       "seller_type     object\n",
       "transmission    object\n",
       "owner           object\n",
       "Age              int64\n",
       "dtype: object"
      ]
     },
     "execution_count": 16,
     "metadata": {},
     "output_type": "execute_result"
    }
   ],
   "source": [
    "x_train.dtypes"
   ]
  },
  {
   "cell_type": "markdown",
   "id": "d5f680f1",
   "metadata": {},
   "source": [
    "## Columns index that needs to undergo OneHotEncoding - [0,2,3,4,5]"
   ]
  },
  {
   "cell_type": "markdown",
   "id": "d9229ed2",
   "metadata": {},
   "source": [
    "### 1) LinearRegression"
   ]
  },
  {
   "cell_type": "code",
   "execution_count": 19,
   "id": "da9b55f8",
   "metadata": {
    "scrolled": false
   },
   "outputs": [
    {
     "name": "stdout",
     "output_type": "stream",
     "text": [
      "MAE 176895.70195491225\n",
      "MSE 120050796018.11838\n",
      "RMSE 346483.4714934009\n",
      "R2 Score 0.6411057465016152\n"
     ]
    }
   ],
   "source": [
    "step1 = ColumnTransformer(transformers=\n",
    "                          [('ohe',OneHotEncoder(drop='first',sparse_output=False),[0,2,3,4,5])],\n",
    "                              remainder='passthrough')\n",
    "step2 = LinearRegression()\n",
    "\n",
    "pipe_lr = Pipeline([('step1',step1),('step2',step2)])\n",
    "\n",
    "pipe_lr.fit(x_train,y_train)\n",
    "\n",
    "ypred_lr = pipe_lr.predict(x_test)\n",
    "\n",
    "eval_model(y_test,ypred_lr)"
   ]
  },
  {
   "cell_type": "markdown",
   "id": "7ecf67c1",
   "metadata": {},
   "source": [
    "### 2) Ridge Regression"
   ]
  },
  {
   "cell_type": "code",
   "execution_count": 20,
   "id": "11a3250c",
   "metadata": {},
   "outputs": [
    {
     "name": "stdout",
     "output_type": "stream",
     "text": [
      "MAE 177215.77318750232\n",
      "MSE 125545576946.15005\n",
      "RMSE 354324.11284888594\n",
      "R2 Score 0.6246789891229682\n"
     ]
    }
   ],
   "source": [
    "step1 = ColumnTransformer(transformers=\n",
    "                          [('ohe',OneHotEncoder(drop='first',sparse=False),[0,2,3,4,5])],\n",
    "                              remainder='passthrough')\n",
    "step2 = Ridge(alpha=2.41)\n",
    "\n",
    "pipe_rid = Pipeline([('step1',step1),('step2',step2)])\n",
    "\n",
    "pipe_rid.fit(x_train,y_train)\n",
    "\n",
    "ypred_rid = pipe_rid.predict(x_test)\n",
    "\n",
    "eval_model(y_test,ypred_rid)"
   ]
  },
  {
   "cell_type": "markdown",
   "id": "58bf5d9e",
   "metadata": {},
   "source": [
    "### 3) Lasso Regression\n"
   ]
  },
  {
   "cell_type": "code",
   "execution_count": 17,
   "id": "1dd9b2ba",
   "metadata": {},
   "outputs": [
    {
     "name": "stdout",
     "output_type": "stream",
     "text": [
      "MAE 176894.33454879248\n",
      "MSE 120052195121.5861\n",
      "RMSE 346485.4904921505\n",
      "R2 Score 0.6411015638538422\n"
     ]
    }
   ],
   "source": [
    "step1 = ColumnTransformer(transformers=\n",
    "                          [('ohe',OneHotEncoder(drop='first',sparse=False),[0,2,3,4,5])],\n",
    "                              remainder='passthrough')\n",
    "step2 = Lasso(alpha=0.234)\n",
    "\n",
    "pipe_las = Pipeline([('step1',step1),('step2',step2)])\n",
    "\n",
    "pipe_las.fit(x_train,y_train)\n",
    "\n",
    "ypred_las = pipe_las.predict(x_test)\n",
    "\n",
    "eval_model(y_test,ypred_las)"
   ]
  },
  {
   "cell_type": "markdown",
   "id": "aa0cd451",
   "metadata": {},
   "source": [
    "### 4) RandomForest Model"
   ]
  },
  {
   "cell_type": "code",
   "execution_count": 38,
   "id": "2b1d48b5",
   "metadata": {},
   "outputs": [
    {
     "name": "stdout",
     "output_type": "stream",
     "text": [
      "MAE 138678.68079584953\n",
      "MSE 115267034771.75488\n",
      "RMSE 339509.99215303647\n",
      "R2 Score 0.6554068963346328\n"
     ]
    }
   ],
   "source": [
    "step1 = ColumnTransformer(transformers=\n",
    "                          [('ohe',OneHotEncoder(drop='first',sparse=False),[0,2,3,4,5])],\n",
    "                              remainder='passthrough')\n",
    "step2 = RandomForestRegressor(n_estimators=100,max_depth=8,min_samples_split=11,random_state=5)\n",
    "\n",
    "pipe_rf = Pipeline([('step1',step1),('step2',step2)])\n",
    "\n",
    "pipe_rf.fit(x_train,y_train)\n",
    "\n",
    "ypred_rf = pipe_rf.predict(x_test)\n",
    "\n",
    "eval_model(y_test,ypred_rf)"
   ]
  },
  {
   "cell_type": "markdown",
   "id": "dac822d5",
   "metadata": {},
   "source": [
    "### 5) Decision Tree Regressor"
   ]
  },
  {
   "cell_type": "code",
   "execution_count": 39,
   "id": "b227a50d",
   "metadata": {},
   "outputs": [
    {
     "name": "stdout",
     "output_type": "stream",
     "text": [
      "MAE 147178.98553286633\n",
      "MSE 122852727655.08284\n",
      "RMSE 350503.5344402148\n",
      "R2 Score 0.632729315885944\n"
     ]
    }
   ],
   "source": [
    "step1 = ColumnTransformer(transformers=\n",
    "                          [('ohe',OneHotEncoder(drop='first',sparse=False),[0,2,3,4,5])],\n",
    "                              remainder='passthrough')\n",
    "step2 = DecisionTreeRegressor(max_depth=8,min_samples_split=11,random_state=5)\n",
    "\n",
    "pipe_dt = Pipeline([('step1',step1),('step2',step2)])\n",
    "\n",
    "pipe_dt.fit(x_train,y_train)\n",
    "\n",
    "ypred_dt = pipe_dt.predict(x_test)\n",
    "\n",
    "eval_model(y_test,ypred_dt)"
   ]
  },
  {
   "cell_type": "markdown",
   "id": "69195566",
   "metadata": {},
   "source": [
    "## Random Forrest model is best performing model in terms of RMSE value\n",
    "\n"
   ]
  },
  {
   "cell_type": "code",
   "execution_count": 25,
   "id": "05a79023",
   "metadata": {},
   "outputs": [],
   "source": [
    "import pickle"
   ]
  },
  {
   "cell_type": "code",
   "execution_count": 41,
   "id": "5a2ce513",
   "metadata": {},
   "outputs": [],
   "source": [
    "pickle.dump(pipe_dt,open('rf_model_car1.pkl','wb'))   # Saving the best performing model\n",
    "pickle.dump(df_main,open('data_car1.pkl','wb'))              # Saving the dataset"
   ]
  },
  {
   "cell_type": "code",
   "execution_count": 36,
   "id": "7de7f2ed",
   "metadata": {},
   "outputs": [
    {
     "name": "stdout",
     "output_type": "stream",
     "text": [
      "['Audi' 'Bmw' 'Chevrolet' 'Datsun' 'Fiat' 'Ford' 'Honda' 'Hyundai'\n",
      " 'Mahindra' 'Maruti' 'Mercedes-benz' 'Nissan' 'Renault' 'Skoda' 'Tata'\n",
      " 'Toyota' 'Volkswagen']\n"
     ]
    }
   ],
   "source": [
    "print(df_main['brand'].unique())\n"
   ]
  },
  {
   "cell_type": "code",
   "execution_count": null,
   "id": "725edcc8",
   "metadata": {},
   "outputs": [],
   "source": []
  },
  {
   "cell_type": "code",
   "execution_count": null,
   "id": "28e8f8e0",
   "metadata": {},
   "outputs": [],
   "source": []
  },
  {
   "cell_type": "code",
   "execution_count": null,
   "id": "e9605fa5",
   "metadata": {},
   "outputs": [],
   "source": [
    "\n",
    "\n",
    "\n"
   ]
  },
  {
   "cell_type": "code",
   "execution_count": null,
   "id": "41b7fdfd",
   "metadata": {},
   "outputs": [],
   "source": []
  },
  {
   "cell_type": "code",
   "execution_count": null,
   "id": "88466512",
   "metadata": {},
   "outputs": [],
   "source": []
  },
  {
   "cell_type": "code",
   "execution_count": null,
   "id": "c706cd30",
   "metadata": {},
   "outputs": [],
   "source": []
  },
  {
   "cell_type": "code",
   "execution_count": null,
   "id": "06ff90bd",
   "metadata": {},
   "outputs": [],
   "source": []
  },
  {
   "cell_type": "code",
   "execution_count": null,
   "id": "d505b47b",
   "metadata": {},
   "outputs": [],
   "source": [
    "\n"
   ]
  },
  {
   "cell_type": "code",
   "execution_count": null,
   "id": "5c221315",
   "metadata": {},
   "outputs": [],
   "source": []
  },
  {
   "cell_type": "code",
   "execution_count": null,
   "id": "46d98a2e",
   "metadata": {},
   "outputs": [],
   "source": []
  },
  {
   "cell_type": "code",
   "execution_count": null,
   "id": "3bffff31",
   "metadata": {},
   "outputs": [],
   "source": []
  }
 ],
 "metadata": {
  "kernelspec": {
   "display_name": "shivam_env",
   "language": "python",
   "name": "shivam_env"
  },
  "language_info": {
   "codemirror_mode": {
    "name": "ipython",
    "version": 3
   },
   "file_extension": ".py",
   "mimetype": "text/x-python",
   "name": "python",
   "nbconvert_exporter": "python",
   "pygments_lexer": "ipython3",
   "version": "3.11.3"
  }
 },
 "nbformat": 4,
 "nbformat_minor": 5
}
